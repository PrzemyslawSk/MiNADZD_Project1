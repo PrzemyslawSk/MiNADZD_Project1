{
 "cells": [
  {
   "cell_type": "markdown",
   "id": "098f93a4",
   "metadata": {},
   "source": [
    "## Wczytanie bibliotek"
   ]
  },
  {
   "cell_type": "code",
   "execution_count": 1,
   "id": "93050cd5",
   "metadata": {},
   "outputs": [],
   "source": [
    "import pymongo\n",
    "import pandas as pd\n",
    "from pymongo import MongoClient\n",
    "import pandas as pd\n",
    "import time\n",
    "import matplotlib.pyplot as plt"
   ]
  },
  {
   "cell_type": "markdown",
   "id": "31dce45c",
   "metadata": {},
   "source": [
    "## Połączenie z bazą danych MongoDB"
   ]
  },
  {
   "cell_type": "code",
   "execution_count": 2,
   "id": "329895ef",
   "metadata": {},
   "outputs": [],
   "source": [
    "client = pymongo.MongoClient(\"mongodb://localhost/player_list\")"
   ]
  },
  {
   "cell_type": "code",
   "execution_count": 3,
   "id": "5fb50577",
   "metadata": {},
   "outputs": [],
   "source": [
    "db = client.get_database('player_list')"
   ]
  },
  {
   "cell_type": "code",
   "execution_count": 4,
   "id": "f21b553e",
   "metadata": {},
   "outputs": [],
   "source": [
    "col = db.get_collection('player_list')"
   ]
  },
  {
   "cell_type": "code",
   "execution_count": 5,
   "id": "d1811b86",
   "metadata": {},
   "outputs": [
    {
     "data": {
      "text/plain": [
       "['admin', 'config', 'local', 'player_list']"
      ]
     },
     "execution_count": 5,
     "metadata": {},
     "output_type": "execute_result"
    }
   ],
   "source": [
    "client.list_database_names()"
   ]
  },
  {
   "cell_type": "code",
   "execution_count": 6,
   "id": "7038c8b8",
   "metadata": {},
   "outputs": [
    {
     "data": {
      "text/plain": [
       "['player_list']"
      ]
     },
     "execution_count": 6,
     "metadata": {},
     "output_type": "execute_result"
    }
   ],
   "source": [
    "db.list_collection_names()"
   ]
  },
  {
   "cell_type": "code",
   "execution_count": 7,
   "id": "8f2c0bf4",
   "metadata": {},
   "outputs": [
    {
     "data": {
      "text/plain": [
       "149"
      ]
     },
     "execution_count": 7,
     "metadata": {},
     "output_type": "execute_result"
    }
   ],
   "source": [
    "col.count_documents({})"
   ]
  },
  {
   "cell_type": "code",
   "execution_count": 8,
   "id": "a0f5207d",
   "metadata": {},
   "outputs": [
    {
     "data": {
      "text/plain": [
       "{'_id': 1,\n",
       " 'team': 'FaZe',\n",
       " 'nickname': 'karrigan',\n",
       " 'name': 'Finn Andersen',\n",
       " 'nationality': 'Denmark',\n",
       " 'age': '32',\n",
       " 'kdratio': '0.90',\n",
       " 'headshots': '47.7',\n",
       " 'majors_won': '0',\n",
       " 'majors_played': '14'}"
      ]
     },
     "execution_count": 8,
     "metadata": {},
     "output_type": "execute_result"
    }
   ],
   "source": [
    "col.find_one()"
   ]
  },
  {
   "cell_type": "code",
   "execution_count": 9,
   "id": "a54e3e2e",
   "metadata": {},
   "outputs": [
    {
     "name": "stdout",
     "output_type": "stream",
     "text": [
      "{'_id': 1, 'team': 'FaZe', 'nickname': 'karrigan', 'name': 'Finn Andersen', 'nationality': 'Denmark', 'age': '32', 'kdratio': '0.90', 'headshots': '47.7', 'majors_won': '0', 'majors_played': '14'}\n",
      "{'_id': 2, 'team': 'FaZe', 'nickname': 'rain', 'name': 'Håvard Nygaard', 'nationality': 'Norway', 'age': '27', 'kdratio': '1.07', 'headshots': '53.4', 'majors_won': '0', 'majors_played': '13'}\n",
      "{'_id': 3, 'team': 'FaZe', 'nickname': 'Twistzz', 'name': 'Russel Van Dulken', 'nationality': 'Canada', 'age': '22', 'kdratio': '1.12', 'headshots': '59.7', 'majors_won': '0', 'majors_played': '5'}\n",
      "{'_id': 4, 'team': 'FaZe', 'nickname': 'ropz', 'name': 'Robin Kool', 'nationality': 'Estonia', 'age': '22', 'kdratio': '1.17', 'headshots': '46.0', 'majors_won': '0', 'majors_played': '5'}\n",
      "{'_id': 5, 'team': 'FaZe', 'nickname': 'broky', 'name': 'Helvijs Saukants', 'nationality': 'Latvia', 'age': '21', 'kdratio': '1.20', 'headshots': '30.5', 'majors_won': '0', 'majors_played': '1'}\n"
     ]
    }
   ],
   "source": [
    "for player in col.find().limit(5):\n",
    "    print(player)"
   ]
  },
  {
   "cell_type": "code",
   "execution_count": 10,
   "id": "4b3b18c5",
   "metadata": {},
   "outputs": [
    {
     "data": {
      "text/html": [
       "<div>\n",
       "<style scoped>\n",
       "    .dataframe tbody tr th:only-of-type {\n",
       "        vertical-align: middle;\n",
       "    }\n",
       "\n",
       "    .dataframe tbody tr th {\n",
       "        vertical-align: top;\n",
       "    }\n",
       "\n",
       "    .dataframe thead th {\n",
       "        text-align: right;\n",
       "    }\n",
       "</style>\n",
       "<table border=\"1\" class=\"dataframe\">\n",
       "  <thead>\n",
       "    <tr style=\"text-align: right;\">\n",
       "      <th></th>\n",
       "      <th>age</th>\n",
       "      <th>headshots</th>\n",
       "      <th>kdratio</th>\n",
       "      <th>majors_played</th>\n",
       "      <th>majors_won</th>\n",
       "      <th>name</th>\n",
       "      <th>nationality</th>\n",
       "      <th>nickname</th>\n",
       "      <th>team</th>\n",
       "    </tr>\n",
       "  </thead>\n",
       "  <tbody>\n",
       "    <tr>\n",
       "      <th>0</th>\n",
       "      <td>32</td>\n",
       "      <td>47.7</td>\n",
       "      <td>0.90</td>\n",
       "      <td>14</td>\n",
       "      <td>0</td>\n",
       "      <td>Finn Andersen</td>\n",
       "      <td>Denmark</td>\n",
       "      <td>karrigan</td>\n",
       "      <td>FaZe</td>\n",
       "    </tr>\n",
       "    <tr>\n",
       "      <th>1</th>\n",
       "      <td>27</td>\n",
       "      <td>53.4</td>\n",
       "      <td>1.07</td>\n",
       "      <td>13</td>\n",
       "      <td>0</td>\n",
       "      <td>H?vard Nygaard</td>\n",
       "      <td>Norway</td>\n",
       "      <td>rain</td>\n",
       "      <td>FaZe</td>\n",
       "    </tr>\n",
       "    <tr>\n",
       "      <th>2</th>\n",
       "      <td>22</td>\n",
       "      <td>59.7</td>\n",
       "      <td>1.12</td>\n",
       "      <td>5</td>\n",
       "      <td>0</td>\n",
       "      <td>Russel Van Dulken</td>\n",
       "      <td>Canada</td>\n",
       "      <td>Twistzz</td>\n",
       "      <td>FaZe</td>\n",
       "    </tr>\n",
       "    <tr>\n",
       "      <th>3</th>\n",
       "      <td>22</td>\n",
       "      <td>46.0</td>\n",
       "      <td>1.17</td>\n",
       "      <td>5</td>\n",
       "      <td>0</td>\n",
       "      <td>Robin Kool</td>\n",
       "      <td>Estonia</td>\n",
       "      <td>ropz</td>\n",
       "      <td>FaZe</td>\n",
       "    </tr>\n",
       "    <tr>\n",
       "      <th>4</th>\n",
       "      <td>21</td>\n",
       "      <td>30.5</td>\n",
       "      <td>1.20</td>\n",
       "      <td>1</td>\n",
       "      <td>0</td>\n",
       "      <td>Helvijs Saukants</td>\n",
       "      <td>Latvia</td>\n",
       "      <td>broky</td>\n",
       "      <td>FaZe</td>\n",
       "    </tr>\n",
       "    <tr>\n",
       "      <th>...</th>\n",
       "      <td>...</td>\n",
       "      <td>...</td>\n",
       "      <td>...</td>\n",
       "      <td>...</td>\n",
       "      <td>...</td>\n",
       "      <td>...</td>\n",
       "      <td>...</td>\n",
       "      <td>...</td>\n",
       "      <td>...</td>\n",
       "    </tr>\n",
       "    <tr>\n",
       "      <th>144</th>\n",
       "      <td>25</td>\n",
       "      <td>55.2</td>\n",
       "      <td>1.10</td>\n",
       "      <td>3</td>\n",
       "      <td>0</td>\n",
       "      <td>Leonid Vishnyakov</td>\n",
       "      <td>Russia</td>\n",
       "      <td>chopper</td>\n",
       "      <td>Spirit</td>\n",
       "    </tr>\n",
       "    <tr>\n",
       "      <th>145</th>\n",
       "      <td>20</td>\n",
       "      <td>35.5</td>\n",
       "      <td>1.24</td>\n",
       "      <td>0</td>\n",
       "      <td>0</td>\n",
       "      <td>Abdul Gasanov</td>\n",
       "      <td>Russia</td>\n",
       "      <td>degster</td>\n",
       "      <td>Spirit</td>\n",
       "    </tr>\n",
       "    <tr>\n",
       "      <th>146</th>\n",
       "      <td>18</td>\n",
       "      <td>53.9</td>\n",
       "      <td>1.14</td>\n",
       "      <td>0</td>\n",
       "      <td>0</td>\n",
       "      <td>Boris Vorobiev</td>\n",
       "      <td>Russia</td>\n",
       "      <td>magixx</td>\n",
       "      <td>Spirit</td>\n",
       "    </tr>\n",
       "    <tr>\n",
       "      <th>147</th>\n",
       "      <td>19</td>\n",
       "      <td>44.1</td>\n",
       "      <td>1.02</td>\n",
       "      <td>0</td>\n",
       "      <td>0</td>\n",
       "      <td>Pavel Ogloblin</td>\n",
       "      <td>Russia</td>\n",
       "      <td>s1ren</td>\n",
       "      <td>Spirit</td>\n",
       "    </tr>\n",
       "    <tr>\n",
       "      <th>148</th>\n",
       "      <td>18</td>\n",
       "      <td>42.4</td>\n",
       "      <td>1.07</td>\n",
       "      <td>0</td>\n",
       "      <td>0</td>\n",
       "      <td>Robert Isyanov</td>\n",
       "      <td>Russia</td>\n",
       "      <td>Patsi</td>\n",
       "      <td>Spirit</td>\n",
       "    </tr>\n",
       "  </tbody>\n",
       "</table>\n",
       "<p>149 rows × 9 columns</p>\n",
       "</div>"
      ],
      "text/plain": [
       "     age  headshots  kdratio  majors_played  majors_won               name  \\\n",
       "0     32       47.7     0.90             14           0      Finn Andersen   \n",
       "1     27       53.4     1.07             13           0     H?vard Nygaard   \n",
       "2     22       59.7     1.12              5           0  Russel Van Dulken   \n",
       "3     22       46.0     1.17              5           0         Robin Kool   \n",
       "4     21       30.5     1.20              1           0   Helvijs Saukants   \n",
       "..   ...        ...      ...            ...         ...                ...   \n",
       "144   25       55.2     1.10              3           0  Leonid Vishnyakov   \n",
       "145   20       35.5     1.24              0           0      Abdul Gasanov   \n",
       "146   18       53.9     1.14              0           0     Boris Vorobiev   \n",
       "147   19       44.1     1.02              0           0     Pavel Ogloblin   \n",
       "148   18       42.4     1.07              0           0     Robert Isyanov   \n",
       "\n",
       "    nationality  nickname    team  \n",
       "0       Denmark  karrigan    FaZe  \n",
       "1        Norway      rain    FaZe  \n",
       "2        Canada   Twistzz    FaZe  \n",
       "3       Estonia      ropz    FaZe  \n",
       "4        Latvia     broky    FaZe  \n",
       "..          ...       ...     ...  \n",
       "144      Russia   chopper  Spirit  \n",
       "145      Russia   degster  Spirit  \n",
       "146      Russia    magixx  Spirit  \n",
       "147      Russia     s1ren  Spirit  \n",
       "148      Russia     Patsi  Spirit  \n",
       "\n",
       "[149 rows x 9 columns]"
      ]
     },
     "execution_count": 10,
     "metadata": {},
     "output_type": "execute_result"
    }
   ],
   "source": [
    "player = pd.read_excel('player_list.xlsx')\n",
    "player = player[player.columns[1:]]\n",
    "player"
   ]
  },
  {
   "cell_type": "code",
   "execution_count": 11,
   "id": "cca7ed9b",
   "metadata": {},
   "outputs": [
    {
     "data": {
      "text/html": [
       "<div>\n",
       "<style scoped>\n",
       "    .dataframe tbody tr th:only-of-type {\n",
       "        vertical-align: middle;\n",
       "    }\n",
       "\n",
       "    .dataframe tbody tr th {\n",
       "        vertical-align: top;\n",
       "    }\n",
       "\n",
       "    .dataframe thead th {\n",
       "        text-align: right;\n",
       "    }\n",
       "</style>\n",
       "<table border=\"1\" class=\"dataframe\">\n",
       "  <thead>\n",
       "    <tr style=\"text-align: right;\">\n",
       "      <th></th>\n",
       "      <th>age</th>\n",
       "      <th>headshots</th>\n",
       "      <th>kdratio</th>\n",
       "      <th>majors_played</th>\n",
       "      <th>majors_won</th>\n",
       "    </tr>\n",
       "  </thead>\n",
       "  <tbody>\n",
       "    <tr>\n",
       "      <th>count</th>\n",
       "      <td>149.000000</td>\n",
       "      <td>149.000000</td>\n",
       "      <td>149.000000</td>\n",
       "      <td>149.000000</td>\n",
       "      <td>149.000000</td>\n",
       "    </tr>\n",
       "    <tr>\n",
       "      <th>mean</th>\n",
       "      <td>22.838926</td>\n",
       "      <td>44.474497</td>\n",
       "      <td>1.068054</td>\n",
       "      <td>2.644295</td>\n",
       "      <td>0.214765</td>\n",
       "    </tr>\n",
       "    <tr>\n",
       "      <th>std</th>\n",
       "      <td>3.121562</td>\n",
       "      <td>9.243896</td>\n",
       "      <td>0.094395</td>\n",
       "      <td>4.420581</td>\n",
       "      <td>0.693247</td>\n",
       "    </tr>\n",
       "    <tr>\n",
       "      <th>min</th>\n",
       "      <td>16.000000</td>\n",
       "      <td>21.000000</td>\n",
       "      <td>0.890000</td>\n",
       "      <td>0.000000</td>\n",
       "      <td>0.000000</td>\n",
       "    </tr>\n",
       "    <tr>\n",
       "      <th>25%</th>\n",
       "      <td>21.000000</td>\n",
       "      <td>39.000000</td>\n",
       "      <td>0.990000</td>\n",
       "      <td>0.000000</td>\n",
       "      <td>0.000000</td>\n",
       "    </tr>\n",
       "    <tr>\n",
       "      <th>50%</th>\n",
       "      <td>23.000000</td>\n",
       "      <td>46.000000</td>\n",
       "      <td>1.070000</td>\n",
       "      <td>1.000000</td>\n",
       "      <td>0.000000</td>\n",
       "    </tr>\n",
       "    <tr>\n",
       "      <th>75%</th>\n",
       "      <td>25.000000</td>\n",
       "      <td>51.400000</td>\n",
       "      <td>1.140000</td>\n",
       "      <td>3.000000</td>\n",
       "      <td>0.000000</td>\n",
       "    </tr>\n",
       "    <tr>\n",
       "      <th>max</th>\n",
       "      <td>32.000000</td>\n",
       "      <td>61.200000</td>\n",
       "      <td>1.340000</td>\n",
       "      <td>25.000000</td>\n",
       "      <td>4.000000</td>\n",
       "    </tr>\n",
       "  </tbody>\n",
       "</table>\n",
       "</div>"
      ],
      "text/plain": [
       "              age   headshots     kdratio  majors_played  majors_won\n",
       "count  149.000000  149.000000  149.000000     149.000000  149.000000\n",
       "mean    22.838926   44.474497    1.068054       2.644295    0.214765\n",
       "std      3.121562    9.243896    0.094395       4.420581    0.693247\n",
       "min     16.000000   21.000000    0.890000       0.000000    0.000000\n",
       "25%     21.000000   39.000000    0.990000       0.000000    0.000000\n",
       "50%     23.000000   46.000000    1.070000       1.000000    0.000000\n",
       "75%     25.000000   51.400000    1.140000       3.000000    0.000000\n",
       "max     32.000000   61.200000    1.340000      25.000000    4.000000"
      ]
     },
     "execution_count": 11,
     "metadata": {},
     "output_type": "execute_result"
    }
   ],
   "source": [
    "pl = player.describe()\n",
    "pl"
   ]
  },
  {
   "cell_type": "code",
   "execution_count": 12,
   "id": "a0e7c3df",
   "metadata": {},
   "outputs": [],
   "source": [
    "age = player['age'].mean()\n",
    "pl = pl.drop('count')"
   ]
  },
  {
   "cell_type": "code",
   "execution_count": 13,
   "id": "cd1ab523",
   "metadata": {},
   "outputs": [
    {
     "data": {
      "text/plain": [
       "([<matplotlib.axis.XTick at 0x2014414ae50>,\n",
       "  <matplotlib.axis.XTick at 0x2014414ae20>,\n",
       "  <matplotlib.axis.XTick at 0x2014417b280>,\n",
       "  <matplotlib.axis.XTick at 0x201461c3cd0>,\n",
       "  <matplotlib.axis.XTick at 0x201461c3dc0>],\n",
       " [Text(1, 0, 'age'),\n",
       "  Text(2, 0, 'headshots'),\n",
       "  Text(3, 0, 'kdratio'),\n",
       "  Text(4, 0, 'majors_played'),\n",
       "  Text(5, 0, 'majors_won')])"
      ]
     },
     "execution_count": 13,
     "metadata": {},
     "output_type": "execute_result"
    },
    {
     "data": {
      "image/png": "[encoded data removed]",
      "text/plain": [
       "<Figure size 720x720 with 1 Axes>"
      ]
     },
     "metadata": {
      "needs_background": "light"
     },
     "output_type": "display_data"
    }
   ],
   "source": [
    "plt.figure(figsize=(10,10))\n",
    "plt.boxplot(pl)\n",
    "plt.xticks([1, 2, 3, 4, 5], ['age', 'headshots', 'kdratio', 'majors_played', 'majors_won'])"
   ]
  },
  {
   "cell_type": "code",
   "execution_count": null,
   "id": "89595ba6",
   "metadata": {},
   "outputs": [],
   "source": []
  },
  {
   "cell_type": "code",
   "execution_count": null,
   "id": "813f71a5",
   "metadata": {},
   "outputs": [],
   "source": []
  }
 ],
 "metadata": {
  "kernelspec": {
   "display_name": "Python 3 (ipykernel)",
   "language": "python",
   "name": "python3"
  },
  "language_info": {
   "codemirror_mode": {
    "name": "ipython",
    "version": 3
   },
   "file_extension": ".py",
   "mimetype": "text/x-python",
   "name": "python",
   "nbconvert_exporter": "python",
   "pygments_lexer": "ipython3",
   "version": "3.8.0"
  }
 },
 "nbformat": 4,
 "nbformat_minor": 5
}
